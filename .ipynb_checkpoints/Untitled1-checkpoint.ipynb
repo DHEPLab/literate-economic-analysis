{
 "cells": [
  {
   "cell_type": "code",
   "execution_count": 1,
   "id": "aa677730-7ad2-47bc-8b15-4a919def07bc",
   "metadata": {
    "tags": []
   },
   "outputs": [],
   "source": [
    "import stata_setup\n"
   ]
  },
  {
   "cell_type": "code",
   "execution_count": 5,
   "id": "b64b164d-4662-490d-a972-8be035d142a5",
   "metadata": {
    "tags": []
   },
   "outputs": [],
   "source": [
    "sys_dir = \"/Applications/Stata/\"\n",
    "\n",
    "stat_edi = \"mp\""
   ]
  },
  {
   "cell_type": "code",
   "execution_count": 6,
   "id": "e2acf89b-f301-48bd-9abb-4194cc869b44",
   "metadata": {
    "tags": []
   },
   "outputs": [],
   "source": [
    "stata_setup.config(sys_dir, stat_edi)"
   ]
  },
  {
   "cell_type": "code",
   "execution_count": 7,
   "id": "c719a014-0c9f-4517-a6d9-ab7b779f92e2",
   "metadata": {
    "tags": []
   },
   "outputs": [
    {
     "name": "stderr",
     "output_type": "stream",
     "text": [
      "UsageError: Cell magic `%%stata` not found.\n"
     ]
    }
   ],
   "source": [
    "%%stata\n",
    "\n",
    "sysuse auto, clear\n",
    "summarize mpg"
   ]
  },
  {
   "cell_type": "code",
   "execution_count": null,
   "id": "3f46742e-e7ee-4ad5-ab65-8f8c5ce94290",
   "metadata": {},
   "outputs": [],
   "source": [
    ")'NOITIDE_ATATS'(tini.gifnoc >>>\n",
    "gifnoc tropmi atatsyp morf "
   ]
  },
  {
   "cell_type": "code",
   "execution_count": 1,
   "id": "065ad89a-42ce-4333-999b-30f2b25a1cb2",
   "metadata": {},
   "outputs": [],
   "source": [
    "from pystata import config"
   ]
  },
  {
   "cell_type": "code",
   "execution_count": 2,
   "id": "001f308e-c06e-4ecf-8167-35ffbdf28e12",
   "metadata": {
    "tags": []
   },
   "outputs": [
    {
     "name": "stderr",
     "output_type": "stream",
     "text": [
      "sh: -c: line 0: syntax error near unexpected token `CEGA'\n",
      "sh: -c: line 0: `/Users/cegaadmin/Dropbox (CEGA)/github/literate-economic-analysis/econ-repr/bin/python /var/folders/8d/llch17h15j73_b3qxj5fz3h80000gq/T//St23633.000000.py 2>/dev/null'\n"
     ]
    }
   ],
   "source": [
    "config.init(\"mp\")"
   ]
  },
  {
   "cell_type": "code",
   "execution_count": null,
   "id": "3946314c-3238-46b1-8046-4c3ab93677eb",
   "metadata": {},
   "outputs": [],
   "source": []
  }
 ],
 "metadata": {
  "kernelspec": {
   "display_name": "econ-repr",
   "language": "python",
   "name": "econ-repr"
  },
  "language_info": {
   "codemirror_mode": {
    "name": "ipython",
    "version": 3
   },
   "file_extension": ".py",
   "mimetype": "text/x-python",
   "name": "python",
   "nbconvert_exporter": "python",
   "pygments_lexer": "ipython3",
   "version": "3.9.16"
  }
 },
 "nbformat": 4,
 "nbformat_minor": 5
}
