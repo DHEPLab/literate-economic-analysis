{
 "cells": [
  {
   "cell_type": "markdown",
   "id": "40546439-b55d-4706-bc83-a0b9fe5c57fc",
   "metadata": {},
   "source": [
    "# 0. Set the path to your Stata executable and Stata edition"
   ]
  },
  {
   "cell_type": "markdown",
   "id": "d85f2269-5e8e-46e2-92b0-d00457eea62e",
   "metadata": {},
   "source": [
    "Ensure you have previously installed `pystata`, `stata_setup`, `plotly` and `ipywidgets`. If not, run:\n",
    "\n",
    "```\n",
    "!pip install pystata\n",
    "\n",
    "!pip install stata_setup\n",
    "\n",
    "!pip install plotly==5.14.1\n",
    "\n",
    "!pip install ipywidgets\n",
    "\n",
    "```\n",
    "\n",
    "Then, open the files constants.py situated at 'src' and change the following variables to emulate your working environment and resources:\n",
    "\n",
    "+ sys_dir: path to your stata executable\n",
    "+ stat_edi: stata edition"
   ]
  },
  {
   "cell_type": "markdown",
   "id": "3d6885a4-5a70-4f94-9f74-e9862915358b",
   "metadata": {},
   "source": [
    "# 1. Packages and libraries"
   ]
  },
  {
   "cell_type": "markdown",
   "id": "8602c480-ad3a-4874-bca2-63050666f269",
   "metadata": {},
   "source": [
    "+ Packages to integrate stata with jupyter notebook"
   ]
  },
  {
   "cell_type": "code",
   "execution_count": 1,
   "id": "5c24cf16-3bfb-45a1-9a4a-e67211ce293f",
   "metadata": {
    "tags": []
   },
   "outputs": [],
   "source": [
    "import stata_setup\n",
    "import sys\n",
    "sys.path.append(\"../src\")\n",
    "from constants import sys_dir, stat_edi"
   ]
  },
  {
   "cell_type": "markdown",
   "id": "1220eae3-de15-4c90-a722-4cb0ec1a5439",
   "metadata": {},
   "source": [
    "+ Packages to plot interactively in Python"
   ]
  },
  {
   "cell_type": "code",
   "execution_count": 2,
   "id": "0a826410-d8d6-4539-b0e1-b0235c5f994a",
   "metadata": {},
   "outputs": [],
   "source": [
    "import plotly.express as px\n",
    "import plotly.io as pio\n",
    "import pandas as pd\n",
    "\n",
    "pio.renderers.default = 'iframe'"
   ]
  },
  {
   "cell_type": "markdown",
   "id": "98123594-9012-4b79-9a7c-51e2630c554b",
   "metadata": {},
   "source": [
    "# 2. Setup"
   ]
  },
  {
   "cell_type": "markdown",
   "id": "4219766a-d3d3-4c1a-af3b-3f80de34af49",
   "metadata": {},
   "source": [
    "The stata_setup module is used to configure and initialize Stata within Python. \n"
   ]
  },
  {
   "cell_type": "code",
   "execution_count": 3,
   "id": "e2acf89b-f301-48bd-9abb-4194cc869b44",
   "metadata": {
    "tags": []
   },
   "outputs": [
    {
     "name": "stdout",
     "output_type": "stream",
     "text": [
      "\n",
      "  ___  ____  ____  ____  ____ ®\n",
      " /__    /   ____/   /   ____/      17.0\n",
      "___/   /   /___/   /   /___/       MP—Parallel Edition\n",
      "\n",
      " Statistics and Data Science       Copyright 1985-2021 StataCorp LLC\n",
      "                                   StataCorp\n",
      "                                   4905 Lakeway Drive\n",
      "                                   College Station, Texas 77845 USA\n",
      "                                   800-STATA-PC        https://www.stata.com\n",
      "                                   979-696-4600        stata@stata.com\n",
      "\n",
      "Stata license: Single-user 2-core, expiring 13 Jun 2023\n",
      "Serial number: 501709388294\n",
      "  Licensed to: cegaadmin\n",
      "               UC Berkeley\n",
      "\n",
      "Notes:\n",
      "      1. Unicode is supported; see help unicode_advice.\n",
      "      2. More than 2 billion observations are allowed; see help obs_advice.\n",
      "      3. Maximum number of variables is set to 5,000 but can be increased;\n",
      "          see help set_maxvar.\n",
      "\n",
      "Running /Users/cegaadmin/Documents/Stata/ado/personal/profile.do ...\n"
     ]
    }
   ],
   "source": [
    "stata_setup.config(sys_dir, stat_edi)"
   ]
  },
  {
   "cell_type": "markdown",
   "id": "ed0335cf-33b9-4d4c-8fd3-add9579f42ce",
   "metadata": {},
   "source": [
    "After the initialization, to interact Stata with Python, you can use:\n",
    "\n",
    "    a) line magic commands: \n",
    "    \n",
    "         %%stata\n",
    "         %%mata\n",
    "    \n",
    "    b) the pystata Python package\n",
    "\n"
   ]
  },
  {
   "cell_type": "markdown",
   "id": "d7c9cf30-0a23-4aad-862b-0c3806bbe624",
   "metadata": {},
   "source": [
    "# 3. Interact with Cell Magic Syntax"
   ]
  },
  {
   "cell_type": "code",
   "execution_count": 7,
   "id": "171bf50f-5989-4f64-bea3-bc50a07d5501",
   "metadata": {
    "tags": []
   },
   "outputs": [
    {
     "data": {
      "text/plain": [
       "\u001b[0;31mDocstring:\u001b[0m\n",
       "Execute one line or a block of Stata commands.\n",
       "\n",
       "When the line magic command **%stata** is used, a one-line Stata \n",
       "command can be specified and executed, as it would be in Stata's \n",
       "Command window. When the cell magic command **%%stata** is used, a \n",
       "block of Stata commands can be specified and executed all at once. \n",
       "This is similar to executing a series of commands from a do-file.\n",
       "\n",
       "Cell magic syntax:\n",
       "\n",
       "    %%stata [-d DATA] [-f DFLIST|ARRLIST] [-force]\n",
       "     [-doutd DATAFRAME] [-douta ARRAY] [-foutd FRAMELIST] [-fouta FRAMELIST]\n",
       "     [-ret DICTIONARY] [-eret DICTIONARY] [-sret DICTIONARY] [-qui] [-nogr]\n",
       "     [-gw WIDTH] [-gh HEIGHT]\n",
       "\n",
       "    Optional arguments:\n",
       "\n",
       "      -d DATA               Load a NumPy array or pandas dataframe \n",
       "                            into Stata as the current working dataset.\n",
       "\n",
       "      -f DFLIST|ARRLIST     Load one or multiple NumPy arrays or \n",
       "                            pandas dataframes into Stata as frames. \n",
       "                            The arrays and dataframes should be \n",
       "                            separated by commas. Each array or \n",
       "                            dataframe is stored in Stata as a separate \n",
       "                            frame with the same name.\n",
       "\n",
       "      -force                Force loading of the NumPy array or pandas \n",
       "                            dataframe into Stata as the current working \n",
       "                            dataset, even if the dataset in memory has \n",
       "                            changed since it was last saved; or force \n",
       "                            loading of the NumPy arrays or pandas dataframes \n",
       "                            into Stata as separate frames even if one or \n",
       "                            more of the frames already exist in Stata.\n",
       "\n",
       "      -doutd DATAFRAME      Save the dataset in memory as a pandas \n",
       "                            dataframe when the cell completes.\n",
       "\n",
       "      -douta ARRAY          Save the dataset in memory as a NumPy \n",
       "                            array when the cell completes.\n",
       "\n",
       "      -foutd FRAMELIST      Save one or multiple Stata frames as pandas \n",
       "                            dataframes when the cell completes. The Stata \n",
       "                            frames should be separated by commas. Each \n",
       "                            frame is stored in Python as a pandas \n",
       "                            dataframe. The variable names in each frame \n",
       "                            will be used as the column names in the \n",
       "                            corresponding dataframe. \n",
       "\n",
       "      -fouta FRAMELIST      Save one or multiple Stata frames as NumPy \n",
       "                            arrays when the cell completes. The Stata frames \n",
       "                            should be separated by commas. Each frame is \n",
       "                            stored in Python as a NumPy array.\n",
       "\n",
       "      -ret DICTIONARY       Store current r() results into a dictionary.\n",
       "\n",
       "      -eret DICTIONARY      Store current e() results into a dictionary.\n",
       "\n",
       "      -sret DICTIONARY      Store current s() results into a dictionary.\n",
       "\n",
       "      -qui                  Run Stata commands but suppress output.\n",
       "\n",
       "      -nogr                 Do not display Stata graphics.\n",
       "\n",
       "      -gw WIDTH             Set graph width in inches, pixels, or centimeters; \n",
       "                            default is inches.\n",
       "\n",
       "      -gh HEIGHT            Set graph height in inches, pixels, or centimeters; \n",
       "                            default is inches.\n",
       "\n",
       "\n",
       "Line magic syntax:\n",
       "\n",
       "    %stata stata_cmd\n",
       "\u001b[0;31mFile:\u001b[0m      /Applications/Stata/utilities/pystata/ipython/stpymagic.py"
      ]
     },
     "metadata": {},
     "output_type": "display_data"
    }
   ],
   "source": [
    "%%stata?"
   ]
  },
  {
   "cell_type": "markdown",
   "id": "134a0477-f805-41c3-b336-f15e8b889207",
   "metadata": {},
   "source": [
    "> **Basic Statistics**"
   ]
  },
  {
   "cell_type": "markdown",
   "id": "33883841-3964-4884-ac2e-7f1243aa8bae",
   "metadata": {},
   "source": [
    "\n",
    "The dataset that we will use for this session is a set of data about vintage 1978 automobiles sold in the United States, available for download [here](https://www.stata-press.com/data/r9/u.html)."
   ]
  },
  {
   "cell_type": "code",
   "execution_count": 8,
   "id": "11beb6d0-60b3-4439-8977-0aff91f1e149",
   "metadata": {
    "tags": []
   },
   "outputs": [
    {
     "name": "stdout",
     "output_type": "stream",
     "text": [
      "\n",
      ". clear\n",
      "\n",
      ". sysuse auto.dta\n",
      "(1978 automobile data)\n",
      "\n",
      ". summarize\n",
      "\n",
      "    Variable |        Obs        Mean    Std. dev.       Min        Max\n",
      "-------------+---------------------------------------------------------\n",
      "        make |          0\n",
      "       price |         74    6165.257    2949.496       3291      15906\n",
      "         mpg |         74     21.2973    5.785503         12         41\n",
      "       rep78 |         69    3.405797    .9899323          1          5\n",
      "    headroom |         74    2.993243    .8459948        1.5          5\n",
      "-------------+---------------------------------------------------------\n",
      "       trunk |         74    13.75676    4.277404          5         23\n",
      "      weight |         74    3019.459    777.1936       1760       4840\n",
      "      length |         74    187.9324    22.26634        142        233\n",
      "        turn |         74    39.64865    4.399354         31         51\n",
      "displacement |         74    197.2973    91.83722         79        425\n",
      "-------------+---------------------------------------------------------\n",
      "  gear_ratio |         74    3.014865    .4562871       2.19       3.89\n",
      "     foreign |         74    .2972973    .4601885          0          1\n",
      "\n",
      ". \n"
     ]
    }
   ],
   "source": [
    "%%stata\n",
    "clear\n",
    "sysuse auto.dta\n",
    "summarize"
   ]
  },
  {
   "cell_type": "code",
   "execution_count": 9,
   "id": "a418efee-5657-40de-ab93-64020d7b8a96",
   "metadata": {
    "tags": []
   },
   "outputs": [
    {
     "name": "stdout",
     "output_type": "stream",
     "text": [
      "\n",
      "    Variable |        Obs        Mean    Std. dev.       Min        Max\n",
      "-------------+---------------------------------------------------------\n",
      "         mpg |         74     21.2973    5.785503         12         41\n"
     ]
    }
   ],
   "source": [
    "%%stata\n",
    "summarize mpg"
   ]
  },
  {
   "cell_type": "code",
   "execution_count": 10,
   "id": "51809ace-27bb-4c7f-a804-024a9cd09ba6",
   "metadata": {
    "tags": []
   },
   "outputs": [
    {
     "name": "stdout",
     "output_type": "stream",
     "text": [
      "\n",
      ". sysuse auto.dta\n",
      "(1978 automobile data)\n",
      "\n",
      ". desc\n",
      "\n",
      "Contains data from /Applications/Stata/ado/base/a/auto.dta\n",
      " Observations:            74                  1978 automobile data\n",
      "    Variables:            12                  13 Apr 2020 17:45\n",
      "                                              (_dta has notes)\n",
      "-------------------------------------------------------------------------------\n",
      "Variable      Storage   Display    Value\n",
      "    name         type    format    label      Variable label\n",
      "-------------------------------------------------------------------------------\n",
      "make            str18   %-18s                 Make and model\n",
      "price           int     %8.0gc                Price\n",
      "mpg             int     %8.0g                 Mileage (mpg)\n",
      "rep78           int     %8.0g                 Repair record 1978\n",
      "headroom        float   %6.1f                 Headroom (in.)\n",
      "trunk           int     %8.0g                 Trunk space (cu. ft.)\n",
      "weight          int     %8.0gc                Weight (lbs.)\n",
      "length          int     %8.0g                 Length (in.)\n",
      "turn            int     %8.0g                 Turn circle (ft.)\n",
      "displacement    int     %8.0g                 Displacement (cu. in.)\n",
      "gear_ratio      float   %6.2f                 Gear ratio\n",
      "foreign         byte    %8.0g      origin     Car origin\n",
      "-------------------------------------------------------------------------------\n",
      "Sorted by: foreign\n",
      "\n",
      ". \n"
     ]
    }
   ],
   "source": [
    "%%stata\n",
    "sysuse auto.dta\n",
    "desc"
   ]
  },
  {
   "cell_type": "markdown",
   "id": "9a85b100-a216-4e65-8073-910f19e97052",
   "metadata": {
    "tags": []
   },
   "source": [
    "> **Running a regression**"
   ]
  },
  {
   "cell_type": "code",
   "execution_count": 11,
   "id": "807f9a64-9885-4cd7-9201-3a7c0dc460f7",
   "metadata": {
    "tags": []
   },
   "outputs": [
    {
     "name": "stdout",
     "output_type": "stream",
     "text": [
      "\n",
      ". \n",
      ". reg                   ///\n",
      ">     price             ///\n",
      ">     mpg               ///\n",
      ">     rep78             ///\n",
      ">     headroom          ///\n",
      ">     trunk             ///\n",
      ">     weight            ///\n",
      ">     length            ///\n",
      ">     turn              ///\n",
      ">     displacement      ///\n",
      ">     gear_ratio        ///\n",
      ">     foreign, r\n",
      "\n",
      "Linear regression                               Number of obs     =         69\n",
      "                                                F(10, 58)         =      11.47\n",
      "                                                Prob > F          =     0.0000\n",
      "                                                R-squared         =     0.5989\n",
      "                                                Root MSE          =     1997.3\n",
      "\n",
      "------------------------------------------------------------------------------\n",
      "             |               Robust\n",
      "       price | Coefficient  std. err.      t    P>|t|     [95% conf. interval]\n",
      "-------------+----------------------------------------------------------------\n",
      "         mpg |  -21.80518   84.00518    -0.26   0.796    -189.9598    146.3495\n",
      "       rep78 |   184.7935   337.0935     0.55   0.586    -489.9724    859.5594\n",
      "    headroom |  -635.4921   251.3987    -2.53   0.014    -1138.721    -132.263\n",
      "       trunk |   71.49929   70.18603     1.02   0.313     -68.9933    211.9919\n",
      "      weight |   4.521161   1.963781     2.30   0.025      .590227    8.452096\n",
      "      length |  -76.49101   51.40168    -1.49   0.142    -179.3826    26.40062\n",
      "        turn |  -114.2777   122.2631    -0.93   0.354    -359.0139    130.4585\n",
      "displacement |   11.54012   7.065004     1.63   0.108    -2.602017    25.68227\n",
      "  gear_ratio |  -318.6479   1016.632    -0.31   0.755    -2353.658    1716.362\n",
      "     foreign |   3334.848   988.7149     3.37   0.001     1355.721    5313.976\n",
      "       _cons |   9789.494   8240.462     1.19   0.240    -6705.583    26284.57\n",
      "------------------------------------------------------------------------------\n",
      "\n",
      ".     \n",
      ". \n"
     ]
    }
   ],
   "source": [
    "%%stata\n",
    "\n",
    "reg                   ///\n",
    "    price             ///\n",
    "    mpg               ///\n",
    "    rep78             ///\n",
    "    headroom          ///\n",
    "    trunk             ///\n",
    "    weight            ///\n",
    "    length            ///\n",
    "    turn              ///\n",
    "    displacement      ///\n",
    "    gear_ratio        ///\n",
    "    foreign, r\n",
    "    "
   ]
  },
  {
   "cell_type": "code",
   "execution_count": 15,
   "id": "98f0326d-f13d-43d5-b91e-05aac72b3698",
   "metadata": {
    "tags": []
   },
   "outputs": [
    {
     "name": "stdout",
     "output_type": "stream",
     "text": [
      "\n",
      "-------------------------------------------------------------------------------\n",
      "make                                                             Make and model\n",
      "-------------------------------------------------------------------------------\n",
      "\n",
      "                  Type: String (str18), but longest is str17\n",
      "\n",
      "         Unique values: 74                        Missing \"\": 0/74\n",
      "\n",
      "              Examples: \"Cad. Deville\"\n",
      "                        \"Dodge Magnum\"\n",
      "                        \"Merc. XR-7\"\n",
      "                        \"Pont. Catalina\"\n",
      "\n",
      "               Warning: Variable has embedded blanks.\n"
     ]
    }
   ],
   "source": [
    "%%stata\n",
    "codebook make"
   ]
  },
  {
   "cell_type": "code",
   "execution_count": 16,
   "id": "e5b02a88-9eb0-4c63-b1b9-fbf249373f71",
   "metadata": {
    "tags": []
   },
   "outputs": [
    {
     "name": "stdout",
     "output_type": "stream",
     "text": [
      "\n",
      "     +---------------+\n",
      "     | make          |\n",
      "     |---------------|\n",
      "  3. | AMC Spirit    |\n",
      "  7. | Buick Opel    |\n",
      " 45. | Plym. Sapporo |\n",
      " 51. | Pont. Phoenix |\n",
      " 64. | Peugeot 604   |\n",
      "     +---------------+\n"
     ]
    }
   ],
   "source": [
    "%%stata\n",
    "list make if missing(rep78)"
   ]
  },
  {
   "cell_type": "code",
   "execution_count": 20,
   "id": "b5992ac2-c0bd-4c44-8b53-7a6eb4b3ef1a",
   "metadata": {
    "tags": []
   },
   "outputs": [
    {
     "name": "stdout",
     "output_type": "stream",
     "text": [
      "\n",
      ". correlate mpg weight length turn displacement\n",
      "(obs=74)\n",
      "\n",
      "             |      mpg   weight   length     turn displa~t\n",
      "-------------+---------------------------------------------\n",
      "         mpg |   1.0000\n",
      "      weight |  -0.8072   1.0000\n",
      "      length |  -0.7958   0.9460   1.0000\n",
      "        turn |  -0.7192   0.8574   0.8643   1.0000\n",
      "displacement |  -0.7056   0.8949   0.8351   0.7768   1.0000\n",
      "\n",
      "\n",
      ". \n",
      ".   \n",
      ". \n"
     ]
    }
   ],
   "source": [
    "%%stata -ret corre\n",
    "correlate mpg weight length turn displacement\n",
    "\n",
    "  "
   ]
  },
  {
   "cell_type": "code",
   "execution_count": 26,
   "id": "6a33ecd8-119e-4b0a-8eb7-7bde9e48b892",
   "metadata": {
    "tags": []
   },
   "outputs": [
    {
     "name": "stdout",
     "output_type": "stream",
     "text": [
      "(obs=74)\n",
      "\n",
      "             |      mpg   weight   length     turn displa~t\n",
      "-------------+---------------------------------------------\n",
      "         mpg |   1.0000\n",
      "      weight |  -0.8072   1.0000\n",
      "      length |  -0.7958   0.9460   1.0000\n",
      "        turn |  -0.7192   0.8574   0.8643   1.0000\n",
      "displacement |  -0.7056   0.8949   0.8351   0.7768   1.0000\n",
      "\n"
     ]
    }
   ],
   "source": [
    "%%stata -eret ecorre\n",
    "correlate mpg weight length turn displacement"
   ]
  },
  {
   "cell_type": "code",
   "execution_count": 63,
   "id": "8598b239-82de-46bd-9739-23d8208d64ec",
   "metadata": {
    "tags": []
   },
   "outputs": [
    {
     "data": {
      "text/html": [
       "<iframe\n",
       "    scrolling=\"no\"\n",
       "    width=\"100%\"\n",
       "    height=\"545px\"\n",
       "    src=\"iframe_figures/figure_63.html\"\n",
       "    frameborder=\"0\"\n",
       "    allowfullscreen\n",
       "></iframe>\n"
      ]
     },
     "metadata": {},
     "output_type": "display_data"
    }
   ],
   "source": [
    "vars = ['mpg', 'weight', 'length', 'turn', 'displacement']\n",
    "data = pd.DataFrame(corre['r(C)'], columns=vars, index=vars)\n",
    "fig = px.imshow(data, color_continuous_scale = 'Blues')\n",
    "fig.update_xaxes(side=\"top\")\n",
    "fig.show()"
   ]
  },
  {
   "cell_type": "markdown",
   "id": "34733a9c-1bba-412b-92d1-e30b4f6a0600",
   "metadata": {},
   "source": [
    "> **Plotting a scatter plot of price and mileage and export image**"
   ]
  },
  {
   "cell_type": "code",
   "execution_count": 12,
   "id": "af4e23e3-9562-440b-943a-11df7c3d0ff4",
   "metadata": {
    "tags": []
   },
   "outputs": [
    {
     "name": "stdout",
     "output_type": "stream",
     "text": [
      "\n",
      ". scatter price mpg, mlabel(make)\n",
      "\n",
      ". graph export \"../outputs/images/price-mpg.png\", replace\n",
      "file ../outputs/images/price-mpg.png written in PNG format\n",
      "\n",
      ". \n"
     ]
    },
    {
     "data": {
      "image/svg+xml": [
       "<svg xmlns=\"http://www.w3.org/2000/svg\" xmlns:xlink=\"http://www.w3.org/1999/xlink\" version=\"1.1\" width=\"5.500in\" height=\"4.000in\" viewBox=\"0 0 3960 2880\">\n",
       "\t<desc>Stata Graph - Graph</desc>\n",
       "\t<rect x=\"0\" y=\"0\" width=\"3960\" height=\"2880\" style=\"fill:#EAF2F3;stroke:none\"/>\n",
       "\t<rect x=\"0.00\" y=\"0.00\" width=\"3959.88\" height=\"2880.00\" style=\"fill:#EAF2F3\"/>\n",
       "\t<rect x=\"2.88\" y=\"2.88\" width=\"3954.12\" height=\"2874.24\" style=\"fill:none;stroke:#EAF2F3;stroke-width:5.76\"/>\n",
       "\t<rect x=\"390.80\" y=\"100.86\" width=\"3468.22\" height=\"2388.33\" style=\"fill:#FFFFFF\"/>\n",
       "\t<rect x=\"393.68\" y=\"103.74\" width=\"3462.46\" height=\"2382.57\" style=\"fill:none;stroke:#FFFFFF;stroke-width:5.76\"/>\n",
       "\t<line x1=\"390.80\" y1=\"1714.86\" x2=\"3859.02\" y2=\"1714.86\" style=\"stroke:#EAF2F3;stroke-width:8.64\"/>\n",
       "\t<line x1=\"390.80\" y1=\"1003.89\" x2=\"3859.02\" y2=\"1003.89\" style=\"stroke:#EAF2F3;stroke-width:8.64\"/>\n",
       "\t<line x1=\"390.80\" y1=\"292.93\" x2=\"3859.02\" y2=\"292.93\" style=\"stroke:#EAF2F3;stroke-width:8.64\"/>\n",
       "\t<circle cx=\"1747.60\" cy=\"1843.07\" r=\"26.35\" style=\"fill:#1A476F\"/>\n",
       "\t<circle cx=\"1747.60\" cy=\"1843.07\" r=\"22.03\" style=\"fill:none;stroke:#1A476F;stroke-width:8.64\"/>\n",
       "\t<text x=\"1789.55\" y=\"1871.08\" style=\"font-family:'Helvetica';font-size:79.94px;fill:#1A476f\">AMC Concord</text>\n",
       "\t<circle cx=\"1208.67\" cy=\"1750.62\" r=\"26.35\" style=\"fill:#1A476F\"/>\n",
       "\t<circle cx=\"1208.67\" cy=\"1750.62\" r=\"22.03\" style=\"fill:none;stroke:#1A476F;stroke-width:8.64\"/>\n",
       "\t<text x=\"1250.62\" y=\"1778.63\" style=\"font-family:'Helvetica';font-size:79.94px;fill:#1A476f\">AMC Pacer</text>\n",
       "\t<circle cx=\"1747.60\" cy=\"1885.64\" r=\"26.35\" style=\"fill:#1A476F\"/>\n",
       "\t<circle cx=\"1747.60\" cy=\"1885.64\" r=\"22.03\" style=\"fill:none;stroke:#1A476F;stroke-width:8.64\"/>\n",
       "\t<text x=\"1789.55\" y=\"1913.65\" style=\"font-family:'Helvetica';font-size:79.94px;fill:#1A476f\">AMC Spirit</text>\n",
       "\t<circle cx=\"1532.03\" cy=\"1741.09\" r=\"26.35\" style=\"fill:#1A476F\"/>\n",
       "\t<circle cx=\"1532.03\" cy=\"1741.09\" r=\"22.03\" style=\"fill:none;stroke:#1A476F;stroke-width:8.64\"/>\n",
       "\t<text x=\"1573.98\" y=\"1769.10\" style=\"font-family:'Helvetica';font-size:79.94px;fill:#1A476f\">Buick Century</text>\n",
       "\t<circle cx=\"993.09\" cy=\"1312.90\" r=\"26.35\" style=\"fill:#1A476F\"/>\n",
       "\t<circle cx=\"993.09\" cy=\"1312.90\" r=\"22.03\" style=\"fill:none;stroke:#1A476F;stroke-width:8.64\"/>\n",
       "\t<text x=\"1035.05\" y=\"1340.92\" style=\"font-family:'Helvetica';font-size:79.94px;fill:#1A476f\">Buick Electra</text>\n",
       "\t<circle cx=\"1316.45\" cy=\"1602.86\" r=\"26.35\" style=\"fill:#1A476F\"/>\n",
       "\t<circle cx=\"1316.45\" cy=\"1602.86\" r=\"22.03\" style=\"fill:none;stroke:#1A476F;stroke-width:8.64\"/>\n",
       "\t<text x=\"1358.40\" y=\"1630.87\" style=\"font-family:'Helvetica';font-size:79.94px;fill:#1A476f\">Buick LeSabre</text>\n",
       "\t<circle cx=\"2178.87\" cy=\"1792.70\" r=\"26.35\" style=\"fill:#1A476F\"/>\n",
       "\t<circle cx=\"2178.87\" cy=\"1792.70\" r=\"22.03\" style=\"fill:none;stroke:#1A476F;stroke-width:8.64\"/>\n",
       "\t<text x=\"2220.82\" y=\"1820.71\" style=\"font-family:'Helvetica';font-size:79.94px;fill:#1A476f\">Buick Opel</text>\n",
       "\t<circle cx=\"1532.03\" cy=\"1688.00\" r=\"26.35\" style=\"fill:#1A476F\"/>\n",
       "\t<circle cx=\"1532.03\" cy=\"1688.00\" r=\"22.03\" style=\"fill:none;stroke:#1A476F;stroke-width:8.64\"/>\n",
       "\t<text x=\"1573.98\" y=\"1716.01\" style=\"font-family:'Helvetica';font-size:79.94px;fill:#1A476f\">Buick Regal</text>\n",
       "\t<circle cx=\"1100.88\" cy=\"951.05\" r=\"26.35\" style=\"fill:#1A476F\"/>\n",
       "\t<circle cx=\"1100.88\" cy=\"951.05\" r=\"22.03\" style=\"fill:none;stroke:#1A476F;stroke-width:8.64\"/>\n",
       "\t<text x=\"1142.83\" y=\"979.06\" style=\"font-family:'Helvetica';font-size:79.94px;fill:#1A476f\">Buick Riviera</text>\n",
       "\t<circle cx=\"1424.24\" cy=\"1845.42\" r=\"26.35\" style=\"fill:#1A476F\"/>\n",
       "\t<circle cx=\"1424.24\" cy=\"1845.42\" r=\"22.03\" style=\"fill:none;stroke:#1A476F;stroke-width:8.64\"/>\n",
       "\t<text x=\"1466.19\" y=\"1873.43\" style=\"font-family:'Helvetica';font-size:79.94px;fill:#1A476f\">Buick Skylark</text>\n",
       "\t<circle cx=\"885.31\" cy=\"807.00\" r=\"26.35\" style=\"fill:#1A476F\"/>\n",
       "\t<circle cx=\"885.31\" cy=\"807.00\" r=\"22.03\" style=\"fill:none;stroke:#1A476F;stroke-width:8.64\"/>\n",
       "\t<text x=\"927.26\" y=\"835.01\" style=\"font-family:'Helvetica';font-size:79.94px;fill:#1A476f\">Cad. Deville</text>\n",
       "\t<circle cx=\"885.31\" cy=\"364.08\" r=\"26.35\" style=\"fill:#1A476F\"/>\n",
       "\t<circle cx=\"885.31\" cy=\"364.08\" r=\"22.03\" style=\"fill:none;stroke:#1A476F;stroke-width:8.64\"/>\n",
       "\t<text x=\"927.26\" y=\"392.10\" style=\"font-family:'Helvetica';font-size:79.94px;fill:#1A476f\">Cad. Eldorado</text>\n",
       "\t<circle cx=\"1639.81\" cy=\"164.22\" r=\"26.35\" style=\"fill:#1A476F\"/>\n",
       "\t<circle cx=\"1639.81\" cy=\"164.22\" r=\"22.03\" style=\"fill:none;stroke:#1A476F;stroke-width:8.64\"/>\n",
       "\t<text x=\"1681.76\" y=\"192.23\" style=\"font-family:'Helvetica';font-size:79.94px;fill:#1A476f\">Cad. Seville</text>\n",
       "\t<circle cx=\"2502.23\" cy=\"1956.80\" r=\"26.35\" style=\"fill:#1A476F\"/>\n",
       "\t<circle cx=\"2502.23\" cy=\"1956.80\" r=\"22.03\" style=\"fill:none;stroke:#1A476F;stroke-width:8.64\"/>\n",
       "\t<text x=\"2544.18\" y=\"1984.81\" style=\"font-family:'Helvetica';font-size:79.94px;fill:#1A476f\">Chev. Chevette</text>\n",
       "\t<circle cx=\"1100.88\" cy=\"1614.62\" r=\"26.35\" style=\"fill:#1A476F\"/>\n",
       "\t<circle cx=\"1100.88\" cy=\"1614.62\" r=\"22.03\" style=\"fill:none;stroke:#1A476F;stroke-width:8.64\"/>\n",
       "\t<text x=\"1142.83\" y=\"1642.63\" style=\"font-family:'Helvetica';font-size:79.94px;fill:#1A476f\">Chev. Impala</text>\n",
       "\t<circle cx=\"1747.60\" cy=\"1785.40\" r=\"26.35\" style=\"fill:#1A476F\"/>\n",
       "\t<circle cx=\"1747.60\" cy=\"1785.40\" r=\"22.03\" style=\"fill:none;stroke:#1A476F;stroke-width:8.64\"/>\n",
       "\t<text x=\"1789.55\" y=\"1813.41\" style=\"font-family:'Helvetica';font-size:79.94px;fill:#1A476f\">Chev. Malibu</text>\n",
       "\t<circle cx=\"1747.60\" cy=\"1700.13\" r=\"26.35\" style=\"fill:#1A476F\"/>\n",
       "\t<circle cx=\"1747.60\" cy=\"1700.13\" r=\"22.03\" style=\"fill:none;stroke:#1A476F;stroke-width:8.64\"/>\n",
       "\t<text x=\"1789.55\" y=\"1728.14\" style=\"font-family:'Helvetica';font-size:79.94px;fill:#1A476f\">Chev. Monte Carlo</text>\n",
       "\t<circle cx=\"1963.29\" cy=\"1904.45\" r=\"26.35\" style=\"fill:#1A476F\"/>\n",
       "\t<circle cx=\"1963.29\" cy=\"1904.45\" r=\"22.03\" style=\"fill:none;stroke:#1A476F;stroke-width:8.64\"/>\n",
       "\t<text x=\"2005.25\" y=\"1932.46\" style=\"font-family:'Helvetica';font-size:79.94px;fill:#1A476f\">Chev. Monza</text>\n",
       "\t<circle cx=\"1424.24\" cy=\"1863.49\" r=\"26.35\" style=\"fill:#1A476F\"/>\n",
       "\t<circle cx=\"1424.24\" cy=\"1863.49\" r=\"22.03\" style=\"fill:none;stroke:#1A476F;stroke-width:8.64\"/>\n",
       "\t<text x=\"1466.19\" y=\"1891.50\" style=\"font-family:'Helvetica';font-size:79.94px;fill:#1A476f\">Chev. Nova</text>\n",
       "\t<circle cx=\"2610.01\" cy=\"1859.40\" r=\"26.35\" style=\"fill:#1A476F\"/>\n",
       "\t<circle cx=\"2610.01\" cy=\"1859.40\" r=\"22.03\" style=\"fill:none;stroke:#1A476F;stroke-width:8.64\"/>\n",
       "\t<text x=\"2651.96\" y=\"1887.41\" style=\"font-family:'Helvetica';font-size:79.94px;fill:#1A476f\">Dodge Colt</text>\n",
       "\t<circle cx=\"1316.45\" cy=\"1855.69\" r=\"26.35\" style=\"fill:#1A476F\"/>\n",
       "\t<circle cx=\"1316.45\" cy=\"1855.69\" r=\"22.03\" style=\"fill:none;stroke:#1A476F;stroke-width:8.64\"/>\n",
       "\t<text x=\"1358.40\" y=\"1883.70\" style=\"font-family:'Helvetica';font-size:79.94px;fill:#1A476f\">Dodge Diplomat</text>\n",
       "\t<circle cx=\"1100.88\" cy=\"1588.88\" r=\"26.35\" style=\"fill:#1A476F\"/>\n",
       "\t<circle cx=\"1100.88\" cy=\"1588.88\" r=\"22.03\" style=\"fill:none;stroke:#1A476F;stroke-width:8.64\"/>\n",
       "\t<text x=\"1142.83\" y=\"1616.89\" style=\"font-family:'Helvetica';font-size:79.94px;fill:#1A476f\">Dodge Magnum</text>\n",
       "\t<circle cx=\"1208.67\" cy=\"1524.03\" r=\"26.35\" style=\"fill:#1A476F\"/>\n",
       "\t<circle cx=\"1208.67\" cy=\"1524.03\" r=\"22.03\" style=\"fill:none;stroke:#1A476F;stroke-width:8.64\"/>\n",
       "\t<text x=\"1250.62\" y=\"1552.04\" style=\"font-family:'Helvetica';font-size:79.94px;fill:#1A476f\">Dodge St. Regis</text>\n",
       "\t<circle cx=\"2394.44\" cy=\"1801.73\" r=\"26.35\" style=\"fill:#1A476F\"/>\n",
       "\t<circle cx=\"2394.44\" cy=\"1801.73\" r=\"22.03\" style=\"fill:none;stroke:#1A476F;stroke-width:8.64\"/>\n",
       "\t<text x=\"2436.39\" y=\"1829.74\" style=\"font-family:'Helvetica';font-size:79.94px;fill:#1A476f\">Ford Fiesta</text>\n",
       "\t<circle cx=\"1639.81\" cy=\"1830.44\" r=\"26.35\" style=\"fill:#1A476F\"/>\n",
       "\t<circle cx=\"1639.81\" cy=\"1830.44\" r=\"22.03\" style=\"fill:none;stroke:#1A476F;stroke-width:8.64\"/>\n",
       "\t<text x=\"1681.76\" y=\"1858.46\" style=\"font-family:'Helvetica';font-size:79.94px;fill:#1A476f\">Ford Mustang</text>\n",
       "\t<circle cx=\"669.74\" cy=\"791.03\" r=\"26.35\" style=\"fill:#1A476F\"/>\n",
       "\t<circle cx=\"669.74\" cy=\"791.03\" r=\"22.03\" style=\"fill:none;stroke:#1A476F;stroke-width:8.64\"/>\n",
       "\t<text x=\"711.69\" y=\"819.05\" style=\"font-family:'Helvetica';font-size:79.94px;fill:#1A476f\">Linc. Continental</text>\n",
       "\t<circle cx=\"669.74\" cy=\"492.91\" r=\"26.35\" style=\"fill:#1A476F\"/>\n",
       "\t<circle cx=\"669.74\" cy=\"492.91\" r=\"22.03\" style=\"fill:none;stroke:#1A476F;stroke-width:8.64\"/>\n",
       "\t<text x=\"711.69\" y=\"520.92\" style=\"font-family:'Helvetica';font-size:79.94px;fill:#1A476f\">Linc. Mark V</text>\n",
       "\t<circle cx=\"885.31\" cy=\"511.10\" r=\"26.35\" style=\"fill:#1A476F\"/>\n",
       "\t<circle cx=\"885.31\" cy=\"511.10\" r=\"22.03\" style=\"fill:none;stroke:#1A476F;stroke-width:8.64\"/>\n",
       "\t<text x=\"927.26\" y=\"539.12\" style=\"font-family:'Helvetica';font-size:79.94px;fill:#1A476f\">Linc. Versailles</text>\n",
       "\t<circle cx=\"1747.60\" cy=\"1881.43\" r=\"26.35\" style=\"fill:#1A476F\"/>\n",
       "\t<circle cx=\"1747.60\" cy=\"1881.43\" r=\"22.03\" style=\"fill:none;stroke:#1A476F;stroke-width:8.64\"/>\n",
       "\t<text x=\"1789.55\" y=\"1909.44\" style=\"font-family:'Helvetica';font-size:79.94px;fill:#1A476f\">Merc. Bobcat</text>\n",
       "\t<circle cx=\"885.31\" cy=\"1661.02\" r=\"26.35\" style=\"fill:#1A476F\"/>\n",
       "\t<circle cx=\"885.31\" cy=\"1661.02\" r=\"22.03\" style=\"fill:none;stroke:#1A476F;stroke-width:8.64\"/>\n",
       "\t<text x=\"927.26\" y=\"1689.04\" style=\"font-family:'Helvetica';font-size:79.94px;fill:#1A476f\">Merc. Cougar</text>\n",
       "\t<circle cx=\"993.09\" cy=\"1549.27\" r=\"26.35\" style=\"fill:#1A476F\"/>\n",
       "\t<circle cx=\"993.09\" cy=\"1549.27\" r=\"22.03\" style=\"fill:none;stroke:#1A476F;stroke-width:8.64\"/>\n",
       "\t<text x=\"1035.05\" y=\"1577.29\" style=\"font-family:'Helvetica';font-size:79.94px;fill:#1A476f\">Merc. Marquis</text>\n",
       "\t<circle cx=\"1316.45\" cy=\"1783.66\" r=\"26.35\" style=\"fill:#1A476F\"/>\n",
       "\t<circle cx=\"1316.45\" cy=\"1783.66\" r=\"22.03\" style=\"fill:none;stroke:#1A476F;stroke-width:8.64\"/>\n",
       "\t<text x=\"1358.40\" y=\"1811.68\" style=\"font-family:'Helvetica';font-size:79.94px;fill:#1A476f\">Merc. Monarch</text>\n",
       "\t<circle cx=\"885.31\" cy=\"1529.60\" r=\"26.35\" style=\"fill:#1A476F\"/>\n",
       "\t<circle cx=\"885.31\" cy=\"1529.60\" r=\"22.03\" style=\"fill:none;stroke:#1A476F;stroke-width:8.64\"/>\n",
       "\t<text x=\"927.26\" y=\"1557.61\" style=\"font-family:'Helvetica';font-size:79.94px;fill:#1A476f\">Merc. XR-7</text>\n",
       "\t<circle cx=\"1532.03\" cy=\"1957.91\" r=\"26.35\" style=\"fill:#1A476F\"/>\n",
       "\t<circle cx=\"1532.03\" cy=\"1957.91\" r=\"22.03\" style=\"fill:none;stroke:#1A476F;stroke-width:8.64\"/>\n",
       "\t<text x=\"1573.98\" y=\"1985.92\" style=\"font-family:'Helvetica';font-size:79.94px;fill:#1A476f\">Merc. Zephyr</text>\n",
       "\t<circle cx=\"1639.81\" cy=\"1172.57\" r=\"26.35\" style=\"fill:#1A476F\"/>\n",
       "\t<circle cx=\"1639.81\" cy=\"1172.57\" r=\"22.03\" style=\"fill:none;stroke:#1A476F;stroke-width:8.64\"/>\n",
       "\t<text x=\"1681.76\" y=\"1200.58\" style=\"font-family:'Helvetica';font-size:79.94px;fill:#1A476f\">Olds 98</text>\n",
       "\t<circle cx=\"1424.24\" cy=\"1690.48\" r=\"26.35\" style=\"fill:#1A476F\"/>\n",
       "\t<circle cx=\"1424.24\" cy=\"1690.48\" r=\"22.03\" style=\"fill:none;stroke:#1A476F;stroke-width:8.64\"/>\n",
       "\t<text x=\"1466.19\" y=\"1718.49\" style=\"font-family:'Helvetica';font-size:79.94px;fill:#1A476f\">Olds Cutl Supr</text>\n",
       "\t<circle cx=\"1424.24\" cy=\"1752.85\" r=\"26.35\" style=\"fill:#1A476F\"/>\n",
       "\t<circle cx=\"1424.24\" cy=\"1752.85\" r=\"22.03\" style=\"fill:none;stroke:#1A476F;stroke-width:8.64\"/>\n",
       "\t<text x=\"1466.19\" y=\"1780.86\" style=\"font-family:'Helvetica';font-size:79.94px;fill:#1A476f\">Olds Cutlass</text>\n",
       "\t<circle cx=\"1316.45\" cy=\"1730.57\" r=\"26.35\" style=\"fill:#1A476F\"/>\n",
       "\t<circle cx=\"1316.45\" cy=\"1730.57\" r=\"22.03\" style=\"fill:none;stroke:#1A476F;stroke-width:8.64\"/>\n",
       "\t<text x=\"1358.40\" y=\"1758.59\" style=\"font-family:'Helvetica';font-size:79.94px;fill:#1A476f\">Olds Delta 88</text>\n",
       "\t<circle cx=\"1424.24\" cy=\"1831.31\" r=\"26.35\" style=\"fill:#1A476F\"/>\n",
       "\t<circle cx=\"1424.24\" cy=\"1831.31\" r=\"22.03\" style=\"fill:none;stroke:#1A476F;stroke-width:8.64\"/>\n",
       "\t<text x=\"1466.19\" y=\"1859.32\" style=\"font-family:'Helvetica';font-size:79.94px;fill:#1A476f\">Olds Omega</text>\n",
       "\t<circle cx=\"1963.29\" cy=\"1829.33\" r=\"26.35\" style=\"fill:#1A476F\"/>\n",
       "\t<circle cx=\"1963.29\" cy=\"1829.33\" r=\"22.03\" style=\"fill:none;stroke:#1A476F;stroke-width:8.64\"/>\n",
       "\t<text x=\"2005.25\" y=\"1857.34\" style=\"font-family:'Helvetica';font-size:79.94px;fill:#1A476f\">Olds Starfire</text>\n",
       "\t<circle cx=\"1100.88\" cy=\"951.17\" r=\"26.35\" style=\"fill:#1A476F\"/>\n",
       "\t<circle cx=\"1100.88\" cy=\"951.17\" r=\"22.03\" style=\"fill:none;stroke:#1A476F;stroke-width:8.64\"/>\n",
       "\t<text x=\"1142.83\" y=\"979.18\" style=\"font-family:'Helvetica';font-size:79.94px;fill:#1A476f\">Olds Toronado</text>\n",
       "\t<circle cx=\"2394.44\" cy=\"1765.10\" r=\"26.35\" style=\"fill:#1A476F\"/>\n",
       "\t<circle cx=\"2394.44\" cy=\"1765.10\" r=\"22.03\" style=\"fill:none;stroke:#1A476F;stroke-width:8.64\"/>\n",
       "\t<text x=\"2436.39\" y=\"1793.11\" style=\"font-family:'Helvetica';font-size:79.94px;fill:#1A476f\">Plym. Arrow</text>\n",
       "\t<circle cx=\"3041.16\" cy=\"1796.66\" r=\"26.35\" style=\"fill:#1A476F\"/>\n",
       "\t<circle cx=\"3041.16\" cy=\"1796.66\" r=\"22.03\" style=\"fill:none;stroke:#1A476F;stroke-width:8.64\"/>\n",
       "\t<text x=\"3083.11\" y=\"1824.67\" style=\"font-family:'Helvetica';font-size:79.94px;fill:#1A476f\">Plym. Champ</text>\n",
       "\t<circle cx=\"2071.08\" cy=\"1788.49\" r=\"26.35\" style=\"fill:#1A476F\"/>\n",
       "\t<circle cx=\"2071.08\" cy=\"1788.49\" r=\"22.03\" style=\"fill:none;stroke:#1A476F;stroke-width:8.64\"/>\n",
       "\t<text x=\"2113.03\" y=\"1816.50\" style=\"font-family:'Helvetica';font-size:79.94px;fill:#1A476f\">Plym. Horizon</text>\n",
       "\t<circle cx=\"2178.87\" cy=\"1503.61\" r=\"26.35\" style=\"fill:#1A476F\"/>\n",
       "\t<circle cx=\"2178.87\" cy=\"1503.61\" r=\"22.03\" style=\"fill:none;stroke:#1A476F;stroke-width:8.64\"/>\n",
       "\t<text x=\"2220.82\" y=\"1531.62\" style=\"font-family:'Helvetica';font-size:79.94px;fill:#1A476f\">Plym. Sapporo</text>\n",
       "\t<circle cx=\"1316.45\" cy=\"1848.51\" r=\"26.35\" style=\"fill:#1A476F\"/>\n",
       "\t<circle cx=\"1316.45\" cy=\"1848.51\" r=\"22.03\" style=\"fill:none;stroke:#1A476F;stroke-width:8.64\"/>\n",
       "\t<text x=\"1358.40\" y=\"1876.52\" style=\"font-family:'Helvetica';font-size:79.94px;fill:#1A476f\">Plym. Volare</text>\n",
       "\t<circle cx=\"1316.45\" cy=\"1601.38\" r=\"26.35\" style=\"fill:#1A476F\"/>\n",
       "\t<circle cx=\"1316.45\" cy=\"1601.38\" r=\"22.03\" style=\"fill:none;stroke:#1A476F;stroke-width:8.64\"/>\n",
       "\t<text x=\"1358.40\" y=\"1629.39\" style=\"font-family:'Helvetica';font-size:79.94px;fill:#1A476f\">Pont. Catalina</text>\n",
       "\t<circle cx=\"1316.45\" cy=\"1724.26\" r=\"26.35\" style=\"fill:#1A476F\"/>\n",
       "\t<circle cx=\"1316.45\" cy=\"1724.26\" r=\"22.03\" style=\"fill:none;stroke:#1A476F;stroke-width:8.64\"/>\n",
       "\t<text x=\"1358.40\" y=\"1752.27\" style=\"font-family:'Helvetica';font-size:79.94px;fill:#1A476f\">Pont. Firebird</text>\n",
       "\t<circle cx=\"1424.24\" cy=\"1683.30\" r=\"26.35\" style=\"fill:#1A476F\"/>\n",
       "\t<circle cx=\"1424.24\" cy=\"1683.30\" r=\"22.03\" style=\"fill:none;stroke:#1A476F;stroke-width:8.64\"/>\n",
       "\t<text x=\"1466.19\" y=\"1711.31\" style=\"font-family:'Helvetica';font-size:79.94px;fill:#1A476f\">Pont. Grand Prix</text>\n",
       "\t<circle cx=\"1424.24\" cy=\"1754.33\" r=\"26.35\" style=\"fill:#1A476F\"/>\n",
       "\t<circle cx=\"1424.24\" cy=\"1754.33\" r=\"22.03\" style=\"fill:none;stroke:#1A476F;stroke-width:8.64\"/>\n",
       "\t<text x=\"1466.19\" y=\"1782.35\" style=\"font-family:'Helvetica';font-size:79.94px;fill:#1A476f\">Pont. Le Mans</text>\n",
       "\t<circle cx=\"1424.24\" cy=\"1796.78\" r=\"26.35\" style=\"fill:#1A476F\"/>\n",
       "\t<circle cx=\"1424.24\" cy=\"1796.78\" r=\"22.03\" style=\"fill:none;stroke:#1A476F;stroke-width:8.64\"/>\n",
       "\t<text x=\"1466.19\" y=\"1824.79\" style=\"font-family:'Helvetica';font-size:79.94px;fill:#1A476f\">Pont. Phoenix</text>\n",
       "\t<circle cx=\"1963.29\" cy=\"1832.67\" r=\"26.35\" style=\"fill:#1A476F\"/>\n",
       "\t<circle cx=\"1963.29\" cy=\"1832.67\" r=\"22.03\" style=\"fill:none;stroke:#1A476F;stroke-width:8.64\"/>\n",
       "\t<text x=\"2005.25\" y=\"1860.68\" style=\"font-family:'Helvetica';font-size:79.94px;fill:#1A476f\">Pont. Sunbird</text>\n",
       "\t<circle cx=\"1208.67\" cy=\"1048.07\" r=\"26.35\" style=\"fill:#1A476F\"/>\n",
       "\t<circle cx=\"1208.67\" cy=\"1048.07\" r=\"22.03\" style=\"fill:none;stroke:#1A476F;stroke-width:8.64\"/>\n",
       "\t<text x=\"1250.62\" y=\"1076.08\" style=\"font-family:'Helvetica';font-size:79.94px;fill:#1A476f\">Audi 5000</text>\n",
       "\t<circle cx=\"1855.51\" cy=\"1530.71\" r=\"26.35\" style=\"fill:#1A476F\"/>\n",
       "\t<circle cx=\"1855.51\" cy=\"1530.71\" r=\"22.03\" style=\"fill:none;stroke:#1A476F;stroke-width:8.64\"/>\n",
       "\t<text x=\"1897.46\" y=\"1558.72\" style=\"font-family:'Helvetica';font-size:79.94px;fill:#1A476f\">Audi Fox</text>\n",
       "\t<circle cx=\"2071.08\" cy=\"1041.64\" r=\"26.35\" style=\"fill:#1A476F\"/>\n",
       "\t<circle cx=\"2071.08\" cy=\"1041.64\" r=\"22.03\" style=\"fill:none;stroke:#1A476F;stroke-width:8.64\"/>\n",
       "\t<text x=\"2113.03\" y=\"1069.65\" style=\"font-family:'Helvetica';font-size:79.94px;fill:#1A476f\">BMW 320i</text>\n",
       "\t<circle cx=\"1855.51\" cy=\"1540.12\" r=\"26.35\" style=\"fill:#1A476F\"/>\n",
       "\t<circle cx=\"1855.51\" cy=\"1540.12\" r=\"22.03\" style=\"fill:none;stroke:#1A476F;stroke-width:8.64\"/>\n",
       "\t<text x=\"1897.46\" y=\"1568.13\" style=\"font-family:'Helvetica';font-size:79.94px;fill:#1A476f\">Datsun 200</text>\n",
       "\t<circle cx=\"3148.94\" cy=\"1773.39\" r=\"26.35\" style=\"fill:#1A476F\"/>\n",
       "\t<circle cx=\"3148.94\" cy=\"1773.39\" r=\"22.03\" style=\"fill:none;stroke:#1A476F;stroke-width:8.64\"/>\n",
       "\t<text x=\"3190.89\" y=\"1801.40\" style=\"font-family:'Helvetica';font-size:79.94px;fill:#1A476f\">Datsun 210</text>\n",
       "\t<circle cx=\"1963.29\" cy=\"1703.72\" r=\"26.35\" style=\"fill:#1A476F\"/>\n",
       "\t<circle cx=\"1963.29\" cy=\"1703.72\" r=\"22.03\" style=\"fill:none;stroke:#1A476F;stroke-width:8.64\"/>\n",
       "\t<text x=\"2005.25\" y=\"1731.73\" style=\"font-family:'Helvetica';font-size:79.94px;fill:#1A476f\">Datsun 510</text>\n",
       "\t<circle cx=\"1639.81\" cy=\"1269.96\" r=\"26.35\" style=\"fill:#1A476F\"/>\n",
       "\t<circle cx=\"1639.81\" cy=\"1269.96\" r=\"22.03\" style=\"fill:none;stroke:#1A476F;stroke-width:8.64\"/>\n",
       "\t<text x=\"1681.76\" y=\"1297.97\" style=\"font-family:'Helvetica';font-size:79.94px;fill:#1A476f\">Datsun 810</text>\n",
       "\t<circle cx=\"1639.81\" cy=\"1814.97\" r=\"26.35\" style=\"fill:#1A476F\"/>\n",
       "\t<circle cx=\"1639.81\" cy=\"1814.97\" r=\"22.03\" style=\"fill:none;stroke:#1A476F;stroke-width:8.64\"/>\n",
       "\t<text x=\"1681.76\" y=\"1842.99\" style=\"font-family:'Helvetica';font-size:79.94px;fill:#1A476f\">Fiat Strada</text>\n",
       "\t<circle cx=\"2071.08\" cy=\"1601.25\" r=\"26.35\" style=\"fill:#1A476F\"/>\n",
       "\t<circle cx=\"2071.08\" cy=\"1601.25\" r=\"22.03\" style=\"fill:none;stroke:#1A476F;stroke-width:8.64\"/>\n",
       "\t<text x=\"2113.03\" y=\"1629.26\" style=\"font-family:'Helvetica';font-size:79.94px;fill:#1A476f\">Honda Accord</text>\n",
       "\t<circle cx=\"2394.44\" cy=\"1786.14\" r=\"26.35\" style=\"fill:#1A476F\"/>\n",
       "\t<circle cx=\"2394.44\" cy=\"1786.14\" r=\"22.03\" style=\"fill:none;stroke:#1A476F;stroke-width:8.64\"/>\n",
       "\t<text x=\"2436.39\" y=\"1814.15\" style=\"font-family:'Helvetica';font-size:79.94px;fill:#1A476f\">Honda Civic</text>\n",
       "\t<circle cx=\"2610.01\" cy=\"1857.79\" r=\"26.35\" style=\"fill:#1A476F\"/>\n",
       "\t<circle cx=\"2610.01\" cy=\"1857.79\" r=\"22.03\" style=\"fill:none;stroke:#1A476F;stroke-width:8.64\"/>\n",
       "\t<text x=\"2651.96\" y=\"1885.80\" style=\"font-family:'Helvetica';font-size:79.94px;fill:#1A476f\">Mazda GLC</text>\n",
       "\t<circle cx=\"885.31\" cy=\"578.80\" r=\"26.35\" style=\"fill:#1A476F\"/>\n",
       "\t<circle cx=\"885.31\" cy=\"578.80\" r=\"22.03\" style=\"fill:none;stroke:#1A476F;stroke-width:8.64\"/>\n",
       "\t<text x=\"927.26\" y=\"606.81\" style=\"font-family:'Helvetica';font-size:79.94px;fill:#1A476f\">Peugeot 604</text>\n",
       "\t<circle cx=\"2178.87\" cy=\"1872.02\" r=\"26.35\" style=\"fill:#1A476F\"/>\n",
       "\t<circle cx=\"2178.87\" cy=\"1872.02\" r=\"22.03\" style=\"fill:none;stroke:#1A476F;stroke-width:8.64\"/>\n",
       "\t<text x=\"2220.82\" y=\"1900.04\" style=\"font-family:'Helvetica';font-size:79.94px;fill:#1A476f\">Renault Le Car</text>\n",
       "\t<circle cx=\"3148.94\" cy=\"1885.76\" r=\"26.35\" style=\"fill:#1A476F\"/>\n",
       "\t<circle cx=\"3148.94\" cy=\"1885.76\" r=\"22.03\" style=\"fill:none;stroke:#1A476F;stroke-width:8.64\"/>\n",
       "\t<text x=\"3190.89\" y=\"1913.77\" style=\"font-family:'Helvetica';font-size:79.94px;fill:#1A476f\">Subaru</text>\n",
       "\t<circle cx=\"1316.45\" cy=\"1587.02\" r=\"26.35\" style=\"fill:#1A476F\"/>\n",
       "\t<circle cx=\"1316.45\" cy=\"1587.02\" r=\"22.03\" style=\"fill:none;stroke:#1A476F;stroke-width:8.64\"/>\n",
       "\t<text x=\"1358.40\" y=\"1615.03\" style=\"font-family:'Helvetica';font-size:79.94px;fill:#1A476f\">Toyota Celica</text>\n",
       "\t<circle cx=\"2717.80\" cy=\"1892.94\" r=\"26.35\" style=\"fill:#1A476F\"/>\n",
       "\t<circle cx=\"2717.80\" cy=\"1892.94\" r=\"22.03\" style=\"fill:none;stroke:#1A476F;stroke-width:8.64\"/>\n",
       "\t<text x=\"2759.75\" y=\"1920.95\" style=\"font-family:'Helvetica';font-size:79.94px;fill:#1A476f\">Toyota Corolla</text>\n",
       "\t<circle cx=\"1316.45\" cy=\"1612.64\" r=\"26.35\" style=\"fill:#1A476F\"/>\n",
       "\t<circle cx=\"1316.45\" cy=\"1612.64\" r=\"22.03\" style=\"fill:none;stroke:#1A476F;stroke-width:8.64\"/>\n",
       "\t<text x=\"1358.40\" y=\"1640.65\" style=\"font-family:'Helvetica';font-size:79.94px;fill:#1A476f\">Toyota Corona</text>\n",
       "\t<circle cx=\"1855.51\" cy=\"1410.55\" r=\"26.35\" style=\"fill:#1A476F\"/>\n",
       "\t<circle cx=\"1855.51\" cy=\"1410.55\" r=\"22.03\" style=\"fill:none;stroke:#1A476F;stroke-width:8.64\"/>\n",
       "\t<text x=\"1897.46\" y=\"1438.56\" style=\"font-family:'Helvetica';font-size:79.94px;fill:#1A476f\">VW Dasher</text>\n",
       "\t<circle cx=\"3795.66\" cy=\"1658.43\" r=\"26.35\" style=\"fill:#1A476F\"/>\n",
       "\t<circle cx=\"3795.66\" cy=\"1658.43\" r=\"22.03\" style=\"fill:none;stroke:#1A476F;stroke-width:8.64\"/>\n",
       "\t<text x=\"3837.61\" y=\"1686.44\" style=\"font-family:'Helvetica';font-size:79.94px;fill:#1A476f\">VW Diesel</text>\n",
       "\t<circle cx=\"2071.08\" cy=\"1757.92\" r=\"26.35\" style=\"fill:#1A476F\"/>\n",
       "\t<circle cx=\"2071.08\" cy=\"1757.92\" r=\"22.03\" style=\"fill:none;stroke:#1A476F;stroke-width:8.64\"/>\n",
       "\t<text x=\"2113.03\" y=\"1785.94\" style=\"font-family:'Helvetica';font-size:79.94px;fill:#1A476f\">VW Rabbit</text>\n",
       "\t<circle cx=\"2071.08\" cy=\"1451.88\" r=\"26.35\" style=\"fill:#1A476F\"/>\n",
       "\t<circle cx=\"2071.08\" cy=\"1451.88\" r=\"22.03\" style=\"fill:none;stroke:#1A476F;stroke-width:8.64\"/>\n",
       "\t<text x=\"2113.03\" y=\"1479.89\" style=\"font-family:'Helvetica';font-size:79.94px;fill:#1A476f\">VW Scirocco</text>\n",
       "\t<circle cx=\"1208.67\" cy=\"720.25\" r=\"26.35\" style=\"fill:#1A476F\"/>\n",
       "\t<circle cx=\"1208.67\" cy=\"720.25\" r=\"22.03\" style=\"fill:none;stroke:#1A476F;stroke-width:8.64\"/>\n",
       "\t<text x=\"1250.62\" y=\"748.26\" style=\"font-family:'Helvetica';font-size:79.94px;fill:#1A476f\">Volvo 260</text>\n",
       "\t<line x1=\"390.80\" y1=\"2489.19\" x2=\"390.80\" y2=\"100.86\" style=\"stroke:#000000;stroke-width:5.76\"/>\n",
       "\t<line x1=\"390.80\" y1=\"2425.82\" x2=\"350.83\" y2=\"2425.82\" style=\"stroke:#000000;stroke-width:5.76\"/>\n",
       "\t<text x=\"300.72\" y=\"2425.82\" style=\"font-family:'Helvetica';font-size:99.99px;fill:#000000\" transform=\"rotate(-90 300.72,2425.82)\" text-anchor=\"middle\">0</text>\n",
       "\t<line x1=\"390.80\" y1=\"1714.86\" x2=\"350.83\" y2=\"1714.86\" style=\"stroke:#000000;stroke-width:5.76\"/>\n",
       "\t<text x=\"300.72\" y=\"1714.86\" style=\"font-family:'Helvetica';font-size:99.99px;fill:#000000\" transform=\"rotate(-90 300.72,1714.86)\" text-anchor=\"middle\">5,000</text>\n",
       "\t<line x1=\"390.80\" y1=\"1003.89\" x2=\"350.83\" y2=\"1003.89\" style=\"stroke:#000000;stroke-width:5.76\"/>\n",
       "\t<text x=\"300.72\" y=\"1003.89\" style=\"font-family:'Helvetica';font-size:99.99px;fill:#000000\" transform=\"rotate(-90 300.72,1003.89)\" text-anchor=\"middle\">10,000</text>\n",
       "\t<line x1=\"390.80\" y1=\"292.93\" x2=\"350.83\" y2=\"292.93\" style=\"stroke:#000000;stroke-width:5.76\"/>\n",
       "\t<text x=\"300.72\" y=\"292.93\" style=\"font-family:'Helvetica';font-size:99.99px;fill:#000000\" transform=\"rotate(-90 300.72,292.93)\" text-anchor=\"middle\">15,000</text>\n",
       "\t<text x=\"190.71\" y=\"1294.96\" style=\"font-family:'Helvetica';font-size:99.99px;fill:#000000\" transform=\"rotate(-90 190.71,1294.96)\" text-anchor=\"middle\">Price</text>\n",
       "\t<line x1=\"390.80\" y1=\"2489.19\" x2=\"3859.02\" y2=\"2489.19\" style=\"stroke:#000000;stroke-width:5.76\"/>\n",
       "\t<line x1=\"454.16\" y1=\"2489.19\" x2=\"454.16\" y2=\"2529.16\" style=\"stroke:#000000;stroke-width:5.76\"/>\n",
       "\t<text x=\"454.16\" y=\"2619.14\" style=\"font-family:'Helvetica';font-size:99.99px;fill:#000000\" text-anchor=\"middle\">10</text>\n",
       "\t<line x1=\"1532.03\" y1=\"2489.19\" x2=\"1532.03\" y2=\"2529.16\" style=\"stroke:#000000;stroke-width:5.76\"/>\n",
       "\t<text x=\"1532.03\" y=\"2619.14\" style=\"font-family:'Helvetica';font-size:99.99px;fill:#000000\" text-anchor=\"middle\">20</text>\n",
       "\t<line x1=\"2610.01\" y1=\"2489.19\" x2=\"2610.01\" y2=\"2529.16\" style=\"stroke:#000000;stroke-width:5.76\"/>\n",
       "\t<text x=\"2610.01\" y=\"2619.14\" style=\"font-family:'Helvetica';font-size:99.99px;fill:#000000\" text-anchor=\"middle\">30</text>\n",
       "\t<line x1=\"3687.87\" y1=\"2489.19\" x2=\"3687.87\" y2=\"2529.16\" style=\"stroke:#000000;stroke-width:5.76\"/>\n",
       "\t<text x=\"3687.87\" y=\"2619.14\" style=\"font-family:'Helvetica';font-size:99.99px;fill:#000000\" text-anchor=\"middle\">40</text>\n",
       "\t<text x=\"2124.91\" y=\"2729.16\" style=\"font-family:'Helvetica';font-size:99.99px;fill:#000000\" text-anchor=\"middle\">Mileage (mpg)</text>\n",
       "</svg>"
      ],
      "text/plain": [
       "<IPython.core.display.SVG object>"
      ]
     },
     "metadata": {},
     "output_type": "display_data"
    }
   ],
   "source": [
    "%%stata\n",
    "scatter price mpg, mlabel(make)\n",
    "graph export \"../outputs/images/price-mpg.png\", replace"
   ]
  },
  {
   "cell_type": "markdown",
   "id": "55729626-c75d-4add-8e35-1ed810c0828b",
   "metadata": {
    "tags": []
   },
   "source": [
    "> **Store current e() results into a dictionary named `mydictionary`**"
   ]
  },
  {
   "cell_type": "code",
   "execution_count": 10,
   "id": "065ad89a-42ce-4333-999b-30f2b25a1cb2",
   "metadata": {},
   "outputs": [
    {
     "name": "stdout",
     "output_type": "stream",
     "text": [
      "\n",
      ". reg mpg price i.foreign\n",
      "\n",
      "      Source |       SS           df       MS      Number of obs   =        74\n",
      "-------------+----------------------------------   F(2, 71)        =     23.01\n",
      "       Model |  960.866305         2  480.433152   Prob > F        =    0.0000\n",
      "    Residual |  1482.59315        71  20.8815937   R-squared       =    0.3932\n",
      "-------------+----------------------------------   Adj R-squared   =    0.3761\n",
      "       Total |  2443.45946        73  33.4720474   Root MSE        =    4.5696\n",
      "\n",
      "------------------------------------------------------------------------------\n",
      "         mpg | Coefficient  Std. err.      t    P>|t|     [95% conf. interval]\n",
      "-------------+----------------------------------------------------------------\n",
      "       price |   -.000959   .0001815    -5.28   0.000     -.001321    -.000597\n",
      "             |\n",
      "     foreign |\n",
      "    Foreign  |   5.245271   1.163592     4.51   0.000     2.925135    7.565407\n",
      "       _cons |   25.65058   1.271581    20.17   0.000     23.11512    28.18605\n",
      "------------------------------------------------------------------------------\n",
      "\n",
      ". ereturn list\n",
      "\n",
      "scalars:\n",
      "                  e(N) =  74\n",
      "               e(df_m) =  2\n",
      "               e(df_r) =  71\n",
      "                  e(F) =  23.00749448574634\n",
      "                 e(r2) =  .3932401256962295\n",
      "               e(rmse) =  4.569638248831391\n",
      "                e(mss) =  960.8663049714787\n",
      "                e(rss) =  1482.593154487981\n",
      "               e(r2_a) =  .3761482982510528\n",
      "                 e(ll) =  -215.9083177127538\n",
      "               e(ll_0) =  -234.3943376482347\n",
      "               e(rank) =  3\n",
      "\n",
      "macros:\n",
      "            e(cmdline) : \"regress mpg price i.foreign\"\n",
      "              e(title) : \"Linear regression\"\n",
      "          e(marginsok) : \"XB default\"\n",
      "                e(vce) : \"ols\"\n",
      "             e(depvar) : \"mpg\"\n",
      "                e(cmd) : \"regress\"\n",
      "         e(properties) : \"b V\"\n",
      "            e(predict) : \"regres_p\"\n",
      "              e(model) : \"ols\"\n",
      "          e(estat_cmd) : \"regress_estat\"\n",
      "\n",
      "matrices:\n",
      "                  e(b) :  1 x 4\n",
      "                  e(V) :  4 x 4\n",
      "               e(beta) :  1 x 3\n",
      "\n",
      "functions:\n",
      "             e(sample)   \n",
      "\n",
      ". \n"
     ]
    }
   ],
   "source": [
    "%%stata -eret mydictionary\n",
    "reg mpg price i.foreign\n",
    "ereturn list"
   ]
  },
  {
   "cell_type": "code",
   "execution_count": 11,
   "id": "f0966333-119f-4b60-889b-1a9726bdacc2",
   "metadata": {
    "tags": []
   },
   "outputs": [
    {
     "data": {
      "text/plain": [
       "{'e(N)': 74.0,\n",
       " 'e(df_m)': 2.0,\n",
       " 'e(df_r)': 71.0,\n",
       " 'e(F)': 23.007494485746342,\n",
       " 'e(r2)': 0.39324012569622946,\n",
       " 'e(rmse)': 4.569638248831391,\n",
       " 'e(mss)': 960.8663049714787,\n",
       " 'e(rss)': 1482.5931544879809,\n",
       " 'e(r2_a)': 0.3761482982510528,\n",
       " 'e(ll)': -215.90831771275379,\n",
       " 'e(ll_0)': -234.39433764823468,\n",
       " 'e(rank)': 3.0,\n",
       " 'e(cmdline)': 'regress mpg price i.foreign',\n",
       " 'e(title)': 'Linear regression',\n",
       " 'e(marginsprop)': 'minus',\n",
       " 'e(marginsok)': 'XB default',\n",
       " 'e(vce)': 'ols',\n",
       " 'e(depvar)': 'mpg',\n",
       " 'e(cmd)': 'regress',\n",
       " 'e(properties)': 'b V',\n",
       " 'e(predict)': 'regres_p',\n",
       " 'e(model)': 'ols',\n",
       " 'e(estat_cmd)': 'regress_estat',\n",
       " 'e(b)': array([[-9.59034169e-04,  0.00000000e+00,  5.24527100e+00,\n",
       "          2.56505843e+01]]),\n",
       " 'e(V)': array([[ 3.29592449e-08,  0.00000000e+00, -1.02918123e-05,\n",
       "         -2.00142479e-04],\n",
       "        [ 0.00000000e+00,  0.00000000e+00,  0.00000000e+00,\n",
       "         -0.00000000e+00],\n",
       "        [-1.02918123e-05,  0.00000000e+00,  1.35394617e+00,\n",
       "         -3.39072871e-01],\n",
       "        [-2.00142479e-04, -0.00000000e+00, -3.39072871e-01,\n",
       "          1.61691892e+00]]),\n",
       " 'e(beta)': array([[-0.4889233,  0.       ,  0.4172175]])}"
      ]
     },
     "execution_count": 11,
     "metadata": {},
     "output_type": "execute_result"
    }
   ],
   "source": [
    "mydictionary"
   ]
  },
  {
   "cell_type": "code",
   "execution_count": 12,
   "id": "33d0dca3-840e-449c-a8ad-88980498bd8f",
   "metadata": {
    "tags": []
   },
   "outputs": [
    {
     "data": {
      "text/plain": [
       "array([[ 3.29592449e-08,  0.00000000e+00, -1.02918123e-05,\n",
       "        -2.00142479e-04],\n",
       "       [ 0.00000000e+00,  0.00000000e+00,  0.00000000e+00,\n",
       "        -0.00000000e+00],\n",
       "       [-1.02918123e-05,  0.00000000e+00,  1.35394617e+00,\n",
       "        -3.39072871e-01],\n",
       "       [-2.00142479e-04, -0.00000000e+00, -3.39072871e-01,\n",
       "         1.61691892e+00]])"
      ]
     },
     "execution_count": 12,
     "metadata": {},
     "output_type": "execute_result"
    }
   ],
   "source": [
    "mydictionary['e(V)']"
   ]
  },
  {
   "cell_type": "markdown",
   "id": "6e745eb5-8b54-4369-b228-80233e13f814",
   "metadata": {
    "tags": []
   },
   "source": [
    "> **Integrate Stata with Mata**"
   ]
  },
  {
   "cell_type": "markdown",
   "id": "ee7445b0-6681-4a90-9b5d-8576c8d331ea",
   "metadata": {},
   "source": [
    "While Stata is sufficient for day-to-day use, and is smart enough to understand generic commands, Mata, a low level language, is faster, and more agile than Stata."
   ]
  },
  {
   "cell_type": "code",
   "execution_count": 13,
   "id": "8692c82a-d2de-4aa4-95af-a6b3103d9f02",
   "metadata": {
    "tags": []
   },
   "outputs": [
    {
     "name": "stdout",
     "output_type": "stream",
     "text": [
      "\n",
      ". mata\n",
      "------------------------------------------------- mata (type end to exit) -----\n",
      ": /* function to create an nxn identity matrix */\n",
      ": real matrix id(real scalar n)\n",
      "> {\n",
      ">     real scalar i\n",
      ">     real matrix res\n",
      ">  \n",
      ">     res = J(n, n, 0)\n",
      ">     for (i=1; i<=n; i++) {\n",
      ">         res[i,i] = 1\n",
      ">     }\n",
      ">     return(res)\n",
      "> }\n",
      "\n",
      ":  \n",
      ": /* create a 3x3 indentity matrix */\n",
      ": A = id(3)\n",
      "\n",
      ": A\n",
      "[symmetric]\n",
      "       1   2   3\n",
      "    +-------------+\n",
      "  1 |  1          |\n",
      "  2 |  0   1      |\n",
      "  3 |  0   0   1  |\n",
      "    +-------------+\n",
      "\n",
      ": end\n",
      "-------------------------------------------------------------------------------\n",
      "\n",
      ". \n"
     ]
    }
   ],
   "source": [
    "%%mata\n",
    "/* function to create an nxn identity matrix */\n",
    "real matrix id(real scalar n)\n",
    "{\n",
    "    real scalar i\n",
    "    real matrix res\n",
    " \n",
    "    res = J(n, n, 0)\n",
    "    for (i=1; i<=n; i++) {\n",
    "        res[i,i] = 1\n",
    "    }\n",
    "    return(res)\n",
    "}\n",
    " \n",
    "/* create a 3x3 indentity matrix */\n",
    "A = id(3)\n",
    "A"
   ]
  },
  {
   "cell_type": "markdown",
   "id": "26208aa9-ebb6-441e-a9d2-b2706702f852",
   "metadata": {
    "tags": []
   },
   "source": [
    "One of the most common uses of Mata is to use data from Stata to do some regression analysis using matrix algebra. Here a standard example is to do a simple OLS in Mata.\n",
    "\n",
    "Recall:\n",
    "$$\\beta = (X’X)^{(-1)} X’y$$\n",
    "\n",
    "Steps:\n",
    "\n",
    "\n",
    "1) load the auto dataset. \n",
    "2) the dependent variable is imported as the $y$ vector, the independent variables are imported as the $X$ matrix. \n",
    "3) This $X$ matrix is appended with a column vector of ones for the intercept. Since Stata shows the intercept at the end of regression tables, the vector of ones is appended at the end of $X$ but this can be prepended as well. Since the vector of ones should have the same number of rows as the X matrix, note the use of the J() operator.\n",
    "\n",
    "Calculate:\n",
    "+ beta coefficients:\n",
    "$$(X'X)^-1 *(X'y)$$\n",
    "+ squared error term:\n",
    "$$e_i^2=(y_i — b x_i)^2$$\n",
    "+ variance covariance matrix:\n",
    "$$V=(X'X)^{(-1)} * \\sum_i\\frac{(e_i^2)}{n-k}$$\n",
    "+ standard errors\n"
   ]
  },
  {
   "cell_type": "code",
   "execution_count": 14,
   "id": "53cbd67b-ab53-4989-a8e6-76ab0a06c820",
   "metadata": {
    "tags": []
   },
   "outputs": [
    {
     "name": "stdout",
     "output_type": "stream",
     "text": [
      "\n",
      ". mata\n",
      "------------------------------------------------- mata (type end to exit) -----\n",
      ": y = st_data(.,\"price\")\n",
      "\n",
      ": X = st_data(.,(\"mpg\", \"weight\"))\n",
      "\n",
      ": X = X, J(rows(X),1,1)\n",
      "\n",
      ": beta   = invsym(cross(X,X))*cross(X,y)\n",
      "\n",
      ": esq    = (y - X*beta) :^ 2\n",
      "\n",
      ": V      = (sum(esq)/(rows(X)-cols(X)))*invsym(cross(X,X))\n",
      "\n",
      ": stderr = sqrt(diagonal(V))\n",
      "\n",
      ": st_matrix(\"b\", beta)\n",
      "\n",
      ": st_matrix(\"se\", stderr)\n",
      "\n",
      ": end\n",
      "-------------------------------------------------------------------------------\n",
      "\n",
      ". \n"
     ]
    }
   ],
   "source": [
    "%%mata\n",
    "y = st_data(.,\"price\")\n",
    "X = st_data(.,(\"mpg\", \"weight\"))\n",
    "X = X, J(rows(X),1,1)\n",
    "beta   = invsym(cross(X,X))*cross(X,y)\n",
    "esq    = (y - X*beta) :^ 2\n",
    "V      = (sum(esq)/(rows(X)-cols(X)))*invsym(cross(X,X))\n",
    "stderr = sqrt(diagonal(V))\n",
    "st_matrix(\"b\", beta)\n",
    "st_matrix(\"se\", stderr)"
   ]
  },
  {
   "cell_type": "markdown",
   "id": "e85b7017-4c4b-427a-b257-328a9ecd5f9d",
   "metadata": {
    "tags": []
   },
   "source": [
    "+ Let’s compare our outputs"
   ]
  },
  {
   "cell_type": "code",
   "execution_count": 15,
   "id": "c65f8767-bc68-4f7d-ba68-4bd7135107f5",
   "metadata": {
    "tags": []
   },
   "outputs": [
    {
     "name": "stdout",
     "output_type": "stream",
     "text": [
      "\n",
      ". mata\n",
      "------------------------------------------------- mata (type end to exit) -----\n",
      ": /* Mata variables stored in memory */\n",
      ": mata: beta\n",
      "                  1\n",
      "    +----------------+\n",
      "  1 |  -49.51222067  |\n",
      "  2 |   1.746559158  |\n",
      "  3 |   1946.068668  |\n",
      "    +----------------+\n",
      "\n",
      ": mata: stderr\n",
      "                 1\n",
      "    +---------------+\n",
      "  1 |  86.15603887  |\n",
      "  2 |  .6413537894  |\n",
      "  3 |  3597.049599  |\n",
      "    +---------------+\n",
      "\n",
      ": /*Stata matrices exported from Mata */\n",
      ": mat li b\n",
      "invalid expression\n",
      "r(3000);\n",
      "\n",
      ": mat li se\n",
      "invalid expression\n",
      "r(3000);\n",
      "\n",
      ": end\n",
      "-------------------------------------------------------------------------------\n",
      "\n",
      ". \n"
     ]
    }
   ],
   "source": [
    "%%mata\n",
    "/* Mata variables stored in memory */\n",
    "mata: beta\n",
    "mata: stderr\n",
    "/*Stata matrices exported from Mata */\n",
    "mat li b\n",
    "mat li se\n"
   ]
  },
  {
   "cell_type": "code",
   "execution_count": 16,
   "id": "a35be98f-c588-4f0d-b0f7-fc4b6acc7ea4",
   "metadata": {
    "tags": []
   },
   "outputs": [
    {
     "name": "stdout",
     "output_type": "stream",
     "text": [
      "\n",
      ". /* Stata regression */\n",
      ". regress price mpg weight\n",
      "\n",
      "      Source |       SS           df       MS      Number of obs   =        74\n",
      "-------------+----------------------------------   F(2, 71)        =     14.74\n",
      "       Model |   186321280         2  93160639.9   Prob > F        =    0.0000\n",
      "    Residual |   448744116        71  6320339.67   R-squared       =    0.2934\n",
      "-------------+----------------------------------   Adj R-squared   =    0.2735\n",
      "       Total |   635065396        73  8699525.97   Root MSE        =      2514\n",
      "\n",
      "------------------------------------------------------------------------------\n",
      "       price | Coefficient  Std. err.      t    P>|t|     [95% conf. interval]\n",
      "-------------+----------------------------------------------------------------\n",
      "         mpg |  -49.51222   86.15604    -0.57   0.567    -221.3025     122.278\n",
      "      weight |   1.746559   .6413538     2.72   0.008      .467736    3.025382\n",
      "       _cons |   1946.069    3597.05     0.54   0.590    -5226.245    9118.382\n",
      "------------------------------------------------------------------------------\n",
      "\n",
      ". \n"
     ]
    }
   ],
   "source": [
    "%%stata\n",
    "/* Stata regression */\n",
    "regress price mpg weight"
   ]
  },
  {
   "cell_type": "markdown",
   "id": "835f5b4f-d0d5-4d57-ba2d-d07323271213",
   "metadata": {},
   "source": [
    "> **Save dataset as a Pandas Dataframe**"
   ]
  },
  {
   "cell_type": "markdown",
   "id": "4b6a9aac-2099-4d03-a069-de83c9895e3b",
   "metadata": {
    "tags": []
   },
   "source": [
    "Here we save the auto.dta into memory as a pandas dataframe, to manipulate it using Python code"
   ]
  },
  {
   "cell_type": "code",
   "execution_count": 17,
   "id": "6b31fd72-8d55-41a5-9400-a8af4a84259a",
   "metadata": {},
   "outputs": [
    {
     "name": "stdout",
     "output_type": "stream",
     "text": [
      "(1978 automobile data)\n"
     ]
    }
   ],
   "source": [
    "%%stata -doutd df\n",
    "sysuse auto.dta"
   ]
  },
  {
   "cell_type": "markdown",
   "id": "437d0445-39ef-4064-9fb5-adafa0771c3d",
   "metadata": {
    "tags": []
   },
   "source": [
    "> **Interactive scatterplot**"
   ]
  },
  {
   "cell_type": "code",
   "execution_count": 18,
   "id": "2fa51890-dd67-4380-ba96-40a0c715c3e0",
   "metadata": {},
   "outputs": [],
   "source": [
    "df['mpg_sq'] = df.mpg ** 2"
   ]
  },
  {
   "cell_type": "code",
   "execution_count": 19,
   "id": "4f8bca4a-e34a-4dd9-943d-fe60c7474fe0",
   "metadata": {
    "tags": []
   },
   "outputs": [
    {
     "data": {
      "text/html": [
       "<iframe\n",
       "    scrolling=\"no\"\n",
       "    width=\"100%\"\n",
       "    height=\"545px\"\n",
       "    src=\"iframe_figures/figure_19.html\"\n",
       "    frameborder=\"0\"\n",
       "    allowfullscreen\n",
       "></iframe>\n"
      ]
     },
     "metadata": {},
     "output_type": "display_data"
    }
   ],
   "source": [
    "fig = px.scatter(x=df.mpg, y=df.price,  title=\"Scatter Plot\").update_layout(\n",
    "    xaxis_title=r\"$\\text{Mileage}$\", yaxis_title=\"Price\"\n",
    ")\n",
    "fig.show()"
   ]
  },
  {
   "cell_type": "code",
   "execution_count": 20,
   "id": "6a3a4557-650d-4d06-8d2f-c17daec808b0",
   "metadata": {
    "tags": []
   },
   "outputs": [
    {
     "data": {
      "text/html": [
       "<iframe\n",
       "    scrolling=\"no\"\n",
       "    width=\"100%\"\n",
       "    height=\"545px\"\n",
       "    src=\"iframe_figures/figure_20.html\"\n",
       "    frameborder=\"0\"\n",
       "    allowfullscreen\n",
       "></iframe>\n"
      ]
     },
     "metadata": {},
     "output_type": "display_data"
    }
   ],
   "source": [
    "fig = px.scatter(x=df.mpg_sq, y=df.price,  title=\"Scatter Plot\").update_layout(\n",
    "    xaxis_title=r\"$\\text{Mileage}^2$\", yaxis_title=\"Price\"\n",
    ")\n",
    "fig.show()"
   ]
  },
  {
   "cell_type": "markdown",
   "id": "e3dfd7bc-e692-44d9-a7b5-ada379b979d0",
   "metadata": {
    "tags": []
   },
   "source": [
    "> **Load Pandas Dataframe into Stata"
   ]
  },
  {
   "cell_type": "code",
   "execution_count": 21,
   "id": "a1af8894-1a63-4322-966d-d666875b0a1d",
   "metadata": {
    "tags": []
   },
   "outputs": [
    {
     "name": "stdout",
     "output_type": "stream",
     "text": [
      "\n",
      ". reg                   ///\n",
      ">     price             ///\n",
      ">     mpg               ///\n",
      ">     mpg_sq            ///\n",
      ">     rep78             ///\n",
      ">     headroom          ///\n",
      ">     trunk             ///\n",
      ">     weight            ///\n",
      ">     length            ///\n",
      ">     turn              ///\n",
      ">     displacement      ///\n",
      ">     gear_ratio        ///\n",
      ">     foreign, r\n",
      "\n",
      "Linear regression                               Number of obs     =         69\n",
      "                                                F(11, 57)         =      10.19\n",
      "                                                Prob > F          =     0.0000\n",
      "                                                R-squared         =     0.6002\n",
      "                                                Root MSE          =     2011.4\n",
      "\n",
      "------------------------------------------------------------------------------\n",
      "             |               Robust\n",
      "       price | Coefficient  std. err.      t    P>|t|     [95% conf. interval]\n",
      "-------------+----------------------------------------------------------------\n",
      "         mpg |  -193.1419   670.1416    -0.29   0.774    -1535.077    1148.794\n",
      "      mpg_sq |   3.157538   11.17973     0.28   0.779    -19.22948    25.54455\n",
      "       rep78 |   135.5068   370.7145     0.37   0.716    -606.8363    877.8498\n",
      "    headroom |  -622.1795   255.5924    -2.43   0.018    -1133.994   -110.3646\n",
      "       trunk |   61.38925   77.09972     0.80   0.429    -93.00029    215.7788\n",
      "      weight |   4.417244   2.156004     2.05   0.045     .0999211    8.734567\n",
      "      length |   -73.6593    55.1252    -1.34   0.187    -184.0456    36.72701\n",
      "        turn |  -131.1809   155.4258    -0.84   0.402    -442.4157    180.0539\n",
      "displacement |   10.58792    6.65194     1.59   0.117    -2.732357     23.9082\n",
      "  gear_ratio |  -353.1781   1023.811    -0.34   0.731    -2403.324    1696.967\n",
      "     foreign |   3251.618   1131.865     2.87   0.006     985.0975    5518.139\n",
      "       _cons |   12939.72   15770.84     0.82   0.415    -18640.84    44520.28\n",
      "------------------------------------------------------------------------------\n",
      "\n",
      ". \n"
     ]
    }
   ],
   "source": [
    "%%stata -d df\n",
    "reg                   ///\n",
    "    price             ///\n",
    "    mpg               ///\n",
    "    mpg_sq            ///\n",
    "    rep78             ///\n",
    "    headroom          ///\n",
    "    trunk             ///\n",
    "    weight            ///\n",
    "    length            ///\n",
    "    turn              ///\n",
    "    displacement      ///\n",
    "    gear_ratio        ///\n",
    "    foreign, r\n"
   ]
  },
  {
   "cell_type": "markdown",
   "id": "3a467825-b90f-4b5d-ae2b-011e8792fdc0",
   "metadata": {
    "tags": []
   },
   "source": [
    "# 4. Interact with pystata"
   ]
  },
  {
   "cell_type": "markdown",
   "id": "2b49f67b-481b-4392-8369-f6aadaee7ce8",
   "metadata": {},
   "source": [
    "> **Import pystata**"
   ]
  },
  {
   "cell_type": "code",
   "execution_count": 22,
   "id": "8cf281fa-a302-4588-a6a1-8822577bcc5a",
   "metadata": {
    "tags": []
   },
   "outputs": [],
   "source": [
    "from pystata import stata"
   ]
  },
  {
   "cell_type": "code",
   "execution_count": 23,
   "id": "fdf51a8b-2cc8-4a56-840c-a8e0c75535da",
   "metadata": {
    "tags": []
   },
   "outputs": [],
   "source": [
    "stata.pdataframe_to_data(df, force=True)"
   ]
  },
  {
   "cell_type": "markdown",
   "id": "70e09aea-a1d4-4121-9d4f-d37f68db0294",
   "metadata": {
    "tags": []
   },
   "source": [
    "> **Summarize data**"
   ]
  },
  {
   "cell_type": "code",
   "execution_count": 24,
   "id": "fb8b21a0-b6e6-46d3-a8cf-3fe439a687d5",
   "metadata": {
    "tags": []
   },
   "outputs": [
    {
     "name": "stdout",
     "output_type": "stream",
     "text": [
      "\n",
      "    Variable |        Obs        Mean    Std. dev.       Min        Max\n",
      "-------------+---------------------------------------------------------\n",
      "        make |          0\n",
      "       price |         74    6165.257    2949.496       3291      15906\n",
      "         mpg |         74     21.2973    5.785503         12         41\n",
      "       rep78 |         69    3.405797    .9899323          1          5\n",
      "    headroom |         74    2.993243    .8459948        1.5          5\n",
      "-------------+---------------------------------------------------------\n",
      "       trunk |         74    13.75676    4.277404          5         23\n",
      "      weight |         74    3019.459    777.1936       1760       4840\n",
      "      length |         74    187.9324    22.26634        142        233\n",
      "        turn |         74    39.64865    4.399354         31         51\n",
      "displacement |         74    197.2973    91.83722         79        425\n",
      "-------------+---------------------------------------------------------\n",
      "  gear_ratio |         74    3.014865    .4562871       2.19       3.89\n",
      "     foreign |         74    .2972973    .4601885          0          1\n",
      "      mpg_sq |         74    486.5946    282.0663        144       1681\n"
     ]
    }
   ],
   "source": [
    "stata.run('summarize')"
   ]
  },
  {
   "cell_type": "markdown",
   "id": "803b4d5a-909b-4e5b-9c4b-847b817b5e8b",
   "metadata": {
    "tags": []
   },
   "source": [
    "> **Label variables**"
   ]
  },
  {
   "cell_type": "code",
   "execution_count": 25,
   "id": "9b2c76ae-4ecd-4d43-968c-6e08995f3b75",
   "metadata": {
    "tags": []
   },
   "outputs": [
    {
     "name": "stdout",
     "output_type": "stream",
     "text": [
      "\n",
      ". \n",
      ". label variable mpg \"Mileage\"\n",
      "\n",
      ". label define foreign 1 \"Yes\" 0 \"No\", replace\n",
      "\n",
      ". \n"
     ]
    }
   ],
   "source": [
    "stata.run('''\n",
    "label variable mpg \"Mileage\"\n",
    "label define foreign 1 \"Yes\" 0 \"No\", replace\n",
    "''')\n"
   ]
  },
  {
   "cell_type": "markdown",
   "id": "aa08e4dc-4968-4673-bfab-34a030131e13",
   "metadata": {
    "tags": []
   },
   "source": [
    "> **Run regression**"
   ]
  },
  {
   "cell_type": "code",
   "execution_count": 26,
   "id": "8582dfad-f222-4393-8759-a21f9a2fcfaf",
   "metadata": {
    "tags": []
   },
   "outputs": [
    {
     "name": "stdout",
     "output_type": "stream",
     "text": [
      "\n",
      "      Source |       SS           df       MS      Number of obs   =        74\n",
      "-------------+----------------------------------   F(2, 71)        =     14.74\n",
      "       Model |   186321280         2  93160639.9   Prob > F        =    0.0000\n",
      "    Residual |   448744116        71  6320339.67   R-squared       =    0.2934\n",
      "-------------+----------------------------------   Adj R-squared   =    0.2735\n",
      "       Total |   635065396        73  8699525.97   Root MSE        =      2514\n",
      "\n",
      "------------------------------------------------------------------------------\n",
      "       price | Coefficient  Std. err.      t    P>|t|     [95% conf. interval]\n",
      "-------------+----------------------------------------------------------------\n",
      "         mpg |  -49.51222   86.15604    -0.57   0.567    -221.3025     122.278\n",
      "      weight |   1.746559   .6413538     2.72   0.008      .467736    3.025382\n",
      "       _cons |   1946.069    3597.05     0.54   0.590    -5226.245    9118.382\n",
      "------------------------------------------------------------------------------\n"
     ]
    }
   ],
   "source": [
    "stata.run('''regress price mpg weight''')"
   ]
  },
  {
   "cell_type": "code",
   "execution_count": 27,
   "id": "1f985840-b5ca-4100-8ff9-059c29415612",
   "metadata": {
    "tags": []
   },
   "outputs": [
    {
     "data": {
      "text/plain": [
       "(array([[-4.95122207e+01,  1.74655916e+00,  1.94606867e+03]]),\n",
       " array([[ 7.42286303e+03,  4.46016592e+01, -2.92759823e+05],\n",
       "        [ 4.46016592e+01,  4.11334683e-01, -2.19190320e+03],\n",
       "        [-2.92759823e+05, -2.19190320e+03,  1.29387658e+07]]))"
      ]
     },
     "execution_count": 27,
     "metadata": {},
     "output_type": "execute_result"
    }
   ],
   "source": [
    "myereturn = stata.get_ereturn()\n",
    "myereturn['e(b)'], myereturn['e(V)']"
   ]
  }
 ],
 "metadata": {
  "kernelspec": {
   "display_name": "Python 3 (ipykernel)",
   "language": "python",
   "name": "python3"
  },
  "language_info": {
   "codemirror_mode": {
    "name": "ipython",
    "version": 3
   },
   "file_extension": ".py",
   "mimetype": "text/x-python",
   "name": "python",
   "nbconvert_exporter": "python",
   "pygments_lexer": "ipython3",
   "version": "3.9.16"
  }
 },
 "nbformat": 4,
 "nbformat_minor": 5
}
